{
 "cells": [
  {
   "cell_type": "markdown",
   "metadata": {},
   "source": [
    "## Project Submission\n",
    "\n",
    "When you are ready to submit your project, meaning you have checked the [rubric](https://review.udacity.com/#!/rubrics/1426/view) and made sure that you have completed all tasks and answered all questions. Then you are ready to compress your files and submit your solution!\n",
    "\n",
    "The following steps assume:\n",
    "1. All cells have been *run* in Notebooks 2 and 3 (and that progress has been saved).\n",
    "2. All questions in those notebooks have been answered.\n",
    "3. Your architecture in `models.py` is your best tested architecture.\n",
    "\n",
    "Please make sure all your work is saved before moving on. You do not need to change any code in these cells; this code is to help you submit your project, only.\n",
    "\n",
    "---\n",
    "\n",
    "The first thing we'll do, is convert your notebooks into `.html` files; these files will save the output of each cell and any code/text that you have modified and saved in those notebooks. Note that the first notebook is not included because its contents will not affect your project review."
   ]
  },
  {
   "cell_type": "code",
   "execution_count": 1,
   "metadata": {
    "ExecuteTime": {
     "end_time": "2018-06-07T03:50:22.990000Z",
     "start_time": "2018-06-07T03:50:21.601000Z"
    }
   },
   "outputs": [
    {
     "name": "stderr",
     "output_type": "stream",
     "text": [
      "Traceback (most recent call last):\n",
      "  File \"F:\\Engineering\\Anaconda3\\envs\\opencv\\Scripts\\jupyter-nbconvert-script.py\", line 11, in <module>\n",
      "    load_entry_point('nbconvert==5.2.1', 'console_scripts', 'jupyter-nbconvert')()\n",
      "  File \"F:\\Engineering\\Anaconda3\\envs\\opencv\\lib\\site-packages\\jupyter_core\\application.py\", line 267, in launch_instance\n",
      "    return super(JupyterApp, cls).launch_instance(argv=argv, **kwargs)\n",
      "  File \"F:\\Engineering\\Anaconda3\\envs\\opencv\\lib\\site-packages\\traitlets\\config\\application.py\", line 658, in launch_instance\n",
      "    app.start()\n",
      "  File \"F:\\Engineering\\Anaconda3\\envs\\opencv\\lib\\site-packages\\nbconvert\\nbconvertapp.py\", line 313, in start\n",
      "    self.convert_notebooks()\n",
      "  File \"F:\\Engineering\\Anaconda3\\envs\\opencv\\lib\\site-packages\\nbconvert\\nbconvertapp.py\", line 471, in convert_notebooks\n",
      "    self.exporter = cls(config=self.config)\n",
      "  File \"F:\\Engineering\\Anaconda3\\envs\\opencv\\lib\\site-packages\\nbconvert\\exporters\\templateexporter.py\", line 231, in __init__\n",
      "    super(TemplateExporter, self).__init__(config=config, **kw)\n",
      "  File \"F:\\Engineering\\Anaconda3\\envs\\opencv\\lib\\site-packages\\nbconvert\\exporters\\exporter.py\", line 103, in __init__\n",
      "    self._init_preprocessors()\n",
      "  File \"F:\\Engineering\\Anaconda3\\envs\\opencv\\lib\\site-packages\\nbconvert\\exporters\\exporter.py\", line 257, in _init_preprocessors\n",
      "    self.register_preprocessor(preprocessor, enabled=True)\n",
      "  File \"F:\\Engineering\\Anaconda3\\envs\\opencv\\lib\\site-packages\\nbconvert\\exporters\\exporter.py\", line 218, in register_preprocessor\n",
      "    preprocessor_cls = import_item(preprocessor)\n",
      "  File \"F:\\Engineering\\Anaconda3\\envs\\opencv\\lib\\site-packages\\traitlets\\utils\\importstring.py\", line 34, in import_item\n",
      "    module = __import__(package, fromlist=[obj])\n",
      "ImportError: No module named jupyter_contrib_nbextensions.nbconvert_support\n"
     ]
    }
   ],
   "source": [
    "!jupyter nbconvert \"2. Define the Network Architecture.ipynb\"\n",
    "#!jupyter nbconvert \"3. Facial Keypoint Detection, Complete Pipeline.ipynb\"\n",
    "#!jupyter nbconvert \"4. Fun with Keypoints.ipynb\"\n",
    "#!jupyter nbconvert \"1. Load and Visualize Data.ipynb\""
   ]
  },
  {
   "cell_type": "markdown",
   "metadata": {},
   "source": [
    "### Zip the project files\n",
    "\n",
    "Next, we'll zip all these notebook files and your `models.py` file into one compressed archive named `project1.zip`.\n",
    "\n",
    "After completing this step you should see this zip file appear in your home directory, where you can download it as seen in the image below, by selecting it from the list and clicking **Download**.\n",
    "\n",
    "<img src='images/download_ex.png' width=50% height=50%/>\n"
   ]
  },
  {
   "cell_type": "code",
   "execution_count": null,
   "metadata": {
    "collapsed": true
   },
   "outputs": [],
   "source": [
    "!!apt-get -y update && apt-get install -y zip\n",
    "!zip project1.zip -r . -i@filelist.txt"
   ]
  },
  {
   "cell_type": "markdown",
   "metadata": {},
   "source": [
    "### Submit Your Project\n",
    "\n",
    "After creating and downloading your zip file, click on the `Submit` button and follow the instructions for submitting your `project1.zip` file. Congratulations on completing this project and I hope you enjoyed it!"
   ]
  }
 ],
 "metadata": {
  "kernelspec": {
   "display_name": "Python 2",
   "language": "python",
   "name": "python2"
  },
  "language_info": {
   "codemirror_mode": {
    "name": "ipython",
    "version": 2
   },
   "file_extension": ".py",
   "mimetype": "text/x-python",
   "name": "python",
   "nbconvert_exporter": "python",
   "pygments_lexer": "ipython2",
   "version": "2.7.13"
  }
 },
 "nbformat": 4,
 "nbformat_minor": 2
}
